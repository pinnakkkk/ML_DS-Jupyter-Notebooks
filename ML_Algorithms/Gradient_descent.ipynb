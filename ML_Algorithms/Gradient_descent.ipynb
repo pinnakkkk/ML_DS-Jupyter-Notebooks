{
 "cells": [
  {
   "cell_type": "code",
   "execution_count": 1,
   "id": "14755494",
   "metadata": {},
   "outputs": [],
   "source": [
    "import pandas as pd\n",
    "import numpy as np\n",
    "import math\n",
    "import matplotlib.pyplot as plt\n",
    "from sklearn import linear_model\n",
    "\n",
    "%matplotlib inline"
   ]
  },
  {
   "cell_type": "code",
   "execution_count": 6,
   "id": "2f71bb04",
   "metadata": {},
   "outputs": [
    {
     "name": "stdout",
     "output_type": "stream",
     "text": [
      "<class 'pandas.core.frame.DataFrame'>\n",
      "RangeIndex: 10 entries, 0 to 9\n",
      "Data columns (total 3 columns):\n",
      " #   Column  Non-Null Count  Dtype \n",
      "---  ------  --------------  ----- \n",
      " 0   name    10 non-null     object\n",
      " 1   math    10 non-null     int64 \n",
      " 2   cs      10 non-null     int64 \n",
      "dtypes: int64(2), object(1)\n",
      "memory usage: 368.0+ bytes\n"
     ]
    }
   ],
   "source": [
    "df = pd.read_csv('~/jupyter_notebooks/DataSets/test_scores.csv')\n",
    "df.info()"
   ]
  },
  {
   "cell_type": "code",
   "execution_count": 7,
   "id": "d71e14de",
   "metadata": {},
   "outputs": [],
   "source": [
    "# calculated coef & intercept using sklearn\n",
    "\n",
    "def linear_reg_sklearn():\n",
    "    df = pd.read_csv('~/py-Jupyter-notebook/DataSets/test_scores.csv')\n",
    "    linear_reg = linear_model.LinearRegression()\n",
    "    linear_reg.fit(df[['math']], df['cs'])\n",
    "    print(\"Prediction by sklearn\")\n",
    "    print(\"predicted coef: \", linear_reg.coef_)\n",
    "    print(\"predicted intercept: \", linear_reg.intercept_)"
   ]
  },
  {
   "cell_type": "code",
   "execution_count": 8,
   "id": "d5c3c0e8",
   "metadata": {},
   "outputs": [],
   "source": [
    "def gradient_descent(x, y):\n",
    "    m_curr = b_curr = 0\n",
    "    iterations = 1000000\n",
    "    n = len(x)\n",
    "    learning_rate = 0.0002\n",
    "    pre_cost = 0\n",
    "\n",
    "    for i in range(iterations):\n",
    "        y_predicted = m_curr * x + b_curr\n",
    "        cost = (1 / n) * sum([val ** 2 for val in (y - y_predicted)])\n",
    "        plt.plot(x,y_predicted,color='blue')\n",
    "        md = -(2 / n) * sum(x * (y - y_predicted))\n",
    "        yd = -(2 / n) * sum(y - y_predicted)\n",
    "        m_curr = m_curr - learning_rate * md\n",
    "        b_curr = b_curr - learning_rate * yd\n",
    "\n",
    "        if math.isclose(cost, pre_cost, rel_tol=1e-20):\n",
    "            print(print(\"\\nAt iteration {} the cost was {}, m {}, b {}, pre_cost {} were matched.\".format(i, cost, m_curr, b_curr, pre_cost)))\n",
    "            break\n",
    "        pre_cost = cost\n",
    "        plt.scatter(x,y, marker='+', linewidths=20, color = 'red')"
   ]
  },
  {
   "cell_type": "code",
   "execution_count": null,
   "id": "3f6d8e19",
   "metadata": {},
   "outputs": [],
   "source": [
    "x = np.array(df['math'])\n",
    "y = np.array(df['cs'])\n",
    "\n",
    "gradient_descent(x, y)\n",
    "linear_reg_sklearn()"
   ]
  },
  {
   "cell_type": "code",
   "execution_count": null,
   "id": "d9bf0fee",
   "metadata": {},
   "outputs": [],
   "source": [
    "\n",
    "    "
   ]
  },
  {
   "cell_type": "code",
   "execution_count": null,
   "id": "beea44e2-7a03-46f5-abf6-596af6613c13",
   "metadata": {},
   "outputs": [],
   "source": []
  },
  {
   "cell_type": "code",
   "execution_count": null,
   "id": "9c1cb8ce-57e2-4ffd-a3dc-c8b69adad535",
   "metadata": {},
   "outputs": [],
   "source": []
  }
 ],
 "metadata": {
  "kernelspec": {
   "display_name": "Python 3 (ipykernel)",
   "language": "python",
   "name": "python3"
  },
  "language_info": {
   "codemirror_mode": {
    "name": "ipython",
    "version": 3
   },
   "file_extension": ".py",
   "mimetype": "text/x-python",
   "name": "python",
   "nbconvert_exporter": "python",
   "pygments_lexer": "ipython3",
   "version": "3.8.10"
  }
 },
 "nbformat": 4,
 "nbformat_minor": 5
}
